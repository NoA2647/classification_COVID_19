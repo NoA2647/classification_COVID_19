{
 "cells": [
  {
   "cell_type": "markdown",
   "metadata": {},
   "source": [
    "## 1. Introduction\n",
    "### 1.1. Importing Libraries"
   ]
  },
  {
   "cell_type": "code",
   "execution_count": 1,
   "metadata": {},
   "outputs": [],
   "source": [
    "import numpy as np\n",
    "import pandas as pd\n",
    "import matplotlib.pyplot as plt\n",
    "import seaborn as sns\n",
    "import warnings\n",
    "warnings.filterwarnings(\"ignore\")"
   ]
  },
  {
   "cell_type": "markdown",
   "metadata": {},
   "source": [
    "### 1.2. Importing Dataset"
   ]
  },
  {
   "cell_type": "code",
   "execution_count": 2,
   "metadata": {},
   "outputs": [
    {
     "data": {
      "text/html": [
       "<div>\n",
       "<style scoped>\n",
       "    .dataframe tbody tr th:only-of-type {\n",
       "        vertical-align: middle;\n",
       "    }\n",
       "\n",
       "    .dataframe tbody tr th {\n",
       "        vertical-align: top;\n",
       "    }\n",
       "\n",
       "    .dataframe thead th {\n",
       "        text-align: right;\n",
       "    }\n",
       "</style>\n",
       "<table border=\"1\" class=\"dataframe\">\n",
       "  <thead>\n",
       "    <tr style=\"text-align: right;\">\n",
       "      <th></th>\n",
       "      <th>test_date</th>\n",
       "      <th>cough</th>\n",
       "      <th>fever</th>\n",
       "      <th>sore_throat</th>\n",
       "      <th>shortness_of_breath</th>\n",
       "      <th>head_ache</th>\n",
       "      <th>corona_result</th>\n",
       "      <th>age_60_and_above</th>\n",
       "      <th>gender</th>\n",
       "      <th>test_indication</th>\n",
       "    </tr>\n",
       "  </thead>\n",
       "  <tbody>\n",
       "    <tr>\n",
       "      <th>0</th>\n",
       "      <td>2020-09-21</td>\n",
       "      <td>0</td>\n",
       "      <td>0</td>\n",
       "      <td>0</td>\n",
       "      <td>0</td>\n",
       "      <td>0</td>\n",
       "      <td>positive</td>\n",
       "      <td>No</td>\n",
       "      <td>male</td>\n",
       "      <td>Other</td>\n",
       "    </tr>\n",
       "    <tr>\n",
       "      <th>1</th>\n",
       "      <td>2020-04-07</td>\n",
       "      <td>1</td>\n",
       "      <td>0</td>\n",
       "      <td>0</td>\n",
       "      <td>0</td>\n",
       "      <td>1</td>\n",
       "      <td>positive</td>\n",
       "      <td>No</td>\n",
       "      <td>male</td>\n",
       "      <td>Other</td>\n",
       "    </tr>\n",
       "    <tr>\n",
       "      <th>2</th>\n",
       "      <td>2020-08-26</td>\n",
       "      <td>0</td>\n",
       "      <td>0</td>\n",
       "      <td>0</td>\n",
       "      <td>0</td>\n",
       "      <td>0</td>\n",
       "      <td>positive</td>\n",
       "      <td>Yes</td>\n",
       "      <td>female</td>\n",
       "      <td>Contact with confirmed</td>\n",
       "    </tr>\n",
       "    <tr>\n",
       "      <th>3</th>\n",
       "      <td>2020-10-14</td>\n",
       "      <td>0</td>\n",
       "      <td>0</td>\n",
       "      <td>0</td>\n",
       "      <td>0</td>\n",
       "      <td>0</td>\n",
       "      <td>positive</td>\n",
       "      <td>No</td>\n",
       "      <td>male</td>\n",
       "      <td>Other</td>\n",
       "    </tr>\n",
       "    <tr>\n",
       "      <th>4</th>\n",
       "      <td>2020-09-02</td>\n",
       "      <td>0</td>\n",
       "      <td>0</td>\n",
       "      <td>0</td>\n",
       "      <td>0</td>\n",
       "      <td>0</td>\n",
       "      <td>positive</td>\n",
       "      <td>No</td>\n",
       "      <td>female</td>\n",
       "      <td>Other</td>\n",
       "    </tr>\n",
       "  </tbody>\n",
       "</table>\n",
       "</div>"
      ],
      "text/plain": [
       "    test_date  cough  fever  sore_throat  shortness_of_breath  head_ache  \\\n",
       "0  2020-09-21      0      0            0                    0          0   \n",
       "1  2020-04-07      1      0            0                    0          1   \n",
       "2  2020-08-26      0      0            0                    0          0   \n",
       "3  2020-10-14      0      0            0                    0          0   \n",
       "4  2020-09-02      0      0            0                    0          0   \n",
       "\n",
       "  corona_result age_60_and_above  gender         test_indication  \n",
       "0      positive               No    male                   Other  \n",
       "1      positive               No    male                   Other  \n",
       "2      positive              Yes  female  Contact with confirmed  \n",
       "3      positive               No    male                   Other  \n",
       "4      positive               No  female                   Other  "
      ]
     },
     "execution_count": 2,
     "metadata": {},
     "output_type": "execute_result"
    }
   ],
   "source": [
    "df=pd.read_csv('./COVID-19 Dataset.csv')\n",
    "df.head()"
   ]
  },
  {
   "cell_type": "code",
   "execution_count": 3,
   "metadata": {},
   "outputs": [
    {
     "data": {
      "text/html": [
       "<div>\n",
       "<style scoped>\n",
       "    .dataframe tbody tr th:only-of-type {\n",
       "        vertical-align: middle;\n",
       "    }\n",
       "\n",
       "    .dataframe tbody tr th {\n",
       "        vertical-align: top;\n",
       "    }\n",
       "\n",
       "    .dataframe thead th {\n",
       "        text-align: right;\n",
       "    }\n",
       "</style>\n",
       "<table border=\"1\" class=\"dataframe\">\n",
       "  <thead>\n",
       "    <tr style=\"text-align: right;\">\n",
       "      <th></th>\n",
       "      <th>cough</th>\n",
       "      <th>fever</th>\n",
       "      <th>sore_throat</th>\n",
       "      <th>shortness_of_breath</th>\n",
       "      <th>head_ache</th>\n",
       "      <th>corona_result</th>\n",
       "      <th>age_60_and_above</th>\n",
       "      <th>gender</th>\n",
       "    </tr>\n",
       "  </thead>\n",
       "  <tbody>\n",
       "    <tr>\n",
       "      <th>0</th>\n",
       "      <td>0</td>\n",
       "      <td>0</td>\n",
       "      <td>0</td>\n",
       "      <td>0</td>\n",
       "      <td>0</td>\n",
       "      <td>positive</td>\n",
       "      <td>No</td>\n",
       "      <td>male</td>\n",
       "    </tr>\n",
       "    <tr>\n",
       "      <th>1</th>\n",
       "      <td>1</td>\n",
       "      <td>0</td>\n",
       "      <td>0</td>\n",
       "      <td>0</td>\n",
       "      <td>1</td>\n",
       "      <td>positive</td>\n",
       "      <td>No</td>\n",
       "      <td>male</td>\n",
       "    </tr>\n",
       "    <tr>\n",
       "      <th>2</th>\n",
       "      <td>0</td>\n",
       "      <td>0</td>\n",
       "      <td>0</td>\n",
       "      <td>0</td>\n",
       "      <td>0</td>\n",
       "      <td>positive</td>\n",
       "      <td>Yes</td>\n",
       "      <td>female</td>\n",
       "    </tr>\n",
       "    <tr>\n",
       "      <th>3</th>\n",
       "      <td>0</td>\n",
       "      <td>0</td>\n",
       "      <td>0</td>\n",
       "      <td>0</td>\n",
       "      <td>0</td>\n",
       "      <td>positive</td>\n",
       "      <td>No</td>\n",
       "      <td>male</td>\n",
       "    </tr>\n",
       "    <tr>\n",
       "      <th>4</th>\n",
       "      <td>0</td>\n",
       "      <td>0</td>\n",
       "      <td>0</td>\n",
       "      <td>0</td>\n",
       "      <td>0</td>\n",
       "      <td>positive</td>\n",
       "      <td>No</td>\n",
       "      <td>female</td>\n",
       "    </tr>\n",
       "  </tbody>\n",
       "</table>\n",
       "</div>"
      ],
      "text/plain": [
       "   cough  fever  sore_throat  shortness_of_breath  head_ache corona_result  \\\n",
       "0      0      0            0                    0          0      positive   \n",
       "1      1      0            0                    0          1      positive   \n",
       "2      0      0            0                    0          0      positive   \n",
       "3      0      0            0                    0          0      positive   \n",
       "4      0      0            0                    0          0      positive   \n",
       "\n",
       "  age_60_and_above  gender  \n",
       "0               No    male  \n",
       "1               No    male  \n",
       "2              Yes  female  \n",
       "3               No    male  \n",
       "4               No  female  "
      ]
     },
     "execution_count": 3,
     "metadata": {},
     "output_type": "execute_result"
    }
   ],
   "source": [
    "df=df.drop(['test_indication','test_date'],axis=1)\n",
    "df.head()"
   ]
  },
  {
   "cell_type": "code",
   "execution_count": 4,
   "metadata": {},
   "outputs": [
    {
     "data": {
      "text/html": [
       "<div>\n",
       "<style scoped>\n",
       "    .dataframe tbody tr th:only-of-type {\n",
       "        vertical-align: middle;\n",
       "    }\n",
       "\n",
       "    .dataframe tbody tr th {\n",
       "        vertical-align: top;\n",
       "    }\n",
       "\n",
       "    .dataframe thead th {\n",
       "        text-align: right;\n",
       "    }\n",
       "</style>\n",
       "<table border=\"1\" class=\"dataframe\">\n",
       "  <thead>\n",
       "    <tr style=\"text-align: right;\">\n",
       "      <th></th>\n",
       "      <th>cough</th>\n",
       "      <th>fever</th>\n",
       "      <th>sore_throat</th>\n",
       "      <th>shortness_of_breath</th>\n",
       "      <th>head_ache</th>\n",
       "    </tr>\n",
       "  </thead>\n",
       "  <tbody>\n",
       "    <tr>\n",
       "      <th>count</th>\n",
       "      <td>400000.000000</td>\n",
       "      <td>400000.000000</td>\n",
       "      <td>400000.000000</td>\n",
       "      <td>400000.000000</td>\n",
       "      <td>400000.000000</td>\n",
       "    </tr>\n",
       "    <tr>\n",
       "      <th>mean</th>\n",
       "      <td>0.118572</td>\n",
       "      <td>0.134365</td>\n",
       "      <td>0.052840</td>\n",
       "      <td>0.019290</td>\n",
       "      <td>0.107095</td>\n",
       "    </tr>\n",
       "    <tr>\n",
       "      <th>std</th>\n",
       "      <td>0.323285</td>\n",
       "      <td>0.341044</td>\n",
       "      <td>0.223714</td>\n",
       "      <td>0.137543</td>\n",
       "      <td>0.309234</td>\n",
       "    </tr>\n",
       "    <tr>\n",
       "      <th>min</th>\n",
       "      <td>0.000000</td>\n",
       "      <td>0.000000</td>\n",
       "      <td>0.000000</td>\n",
       "      <td>0.000000</td>\n",
       "      <td>0.000000</td>\n",
       "    </tr>\n",
       "    <tr>\n",
       "      <th>25%</th>\n",
       "      <td>0.000000</td>\n",
       "      <td>0.000000</td>\n",
       "      <td>0.000000</td>\n",
       "      <td>0.000000</td>\n",
       "      <td>0.000000</td>\n",
       "    </tr>\n",
       "    <tr>\n",
       "      <th>50%</th>\n",
       "      <td>0.000000</td>\n",
       "      <td>0.000000</td>\n",
       "      <td>0.000000</td>\n",
       "      <td>0.000000</td>\n",
       "      <td>0.000000</td>\n",
       "    </tr>\n",
       "    <tr>\n",
       "      <th>75%</th>\n",
       "      <td>0.000000</td>\n",
       "      <td>0.000000</td>\n",
       "      <td>0.000000</td>\n",
       "      <td>0.000000</td>\n",
       "      <td>0.000000</td>\n",
       "    </tr>\n",
       "    <tr>\n",
       "      <th>max</th>\n",
       "      <td>1.000000</td>\n",
       "      <td>1.000000</td>\n",
       "      <td>1.000000</td>\n",
       "      <td>1.000000</td>\n",
       "      <td>1.000000</td>\n",
       "    </tr>\n",
       "  </tbody>\n",
       "</table>\n",
       "</div>"
      ],
      "text/plain": [
       "               cough          fever    sore_throat  shortness_of_breath  \\\n",
       "count  400000.000000  400000.000000  400000.000000        400000.000000   \n",
       "mean        0.118572       0.134365       0.052840             0.019290   \n",
       "std         0.323285       0.341044       0.223714             0.137543   \n",
       "min         0.000000       0.000000       0.000000             0.000000   \n",
       "25%         0.000000       0.000000       0.000000             0.000000   \n",
       "50%         0.000000       0.000000       0.000000             0.000000   \n",
       "75%         0.000000       0.000000       0.000000             0.000000   \n",
       "max         1.000000       1.000000       1.000000             1.000000   \n",
       "\n",
       "           head_ache  \n",
       "count  400000.000000  \n",
       "mean        0.107095  \n",
       "std         0.309234  \n",
       "min         0.000000  \n",
       "25%         0.000000  \n",
       "50%         0.000000  \n",
       "75%         0.000000  \n",
       "max         1.000000  "
      ]
     },
     "execution_count": 4,
     "metadata": {},
     "output_type": "execute_result"
    }
   ],
   "source": [
    "df.describe()"
   ]
  },
  {
   "cell_type": "code",
   "execution_count": 5,
   "metadata": {},
   "outputs": [
    {
     "name": "stdout",
     "output_type": "stream",
     "text": [
      "<class 'pandas.core.frame.DataFrame'>\n",
      "RangeIndex: 400000 entries, 0 to 399999\n",
      "Data columns (total 8 columns):\n",
      " #   Column               Non-Null Count   Dtype \n",
      "---  ------               --------------   ----- \n",
      " 0   cough                400000 non-null  int64 \n",
      " 1   fever                400000 non-null  int64 \n",
      " 2   sore_throat          400000 non-null  int64 \n",
      " 3   shortness_of_breath  400000 non-null  int64 \n",
      " 4   head_ache            400000 non-null  int64 \n",
      " 5   corona_result        400000 non-null  object\n",
      " 6   age_60_and_above     350088 non-null  object\n",
      " 7   gender               392248 non-null  object\n",
      "dtypes: int64(5), object(3)\n",
      "memory usage: 24.4+ MB\n"
     ]
    }
   ],
   "source": [
    "df.info()"
   ]
  },
  {
   "cell_type": "code",
   "execution_count": 6,
   "metadata": {},
   "outputs": [
    {
     "name": "stdout",
     "output_type": "stream",
     "text": [
      "shape: (400000, 8)\n"
     ]
    }
   ],
   "source": [
    "print(\"shape:\", df.shape)"
   ]
  },
  {
   "cell_type": "markdown",
   "metadata": {},
   "source": [
    "### 1.3. Missing Values"
   ]
  },
  {
   "cell_type": "code",
   "execution_count": 7,
   "metadata": {},
   "outputs": [
    {
     "data": {
      "text/plain": [
       "cough                      0\n",
       "fever                      0\n",
       "sore_throat                0\n",
       "shortness_of_breath        0\n",
       "head_ache                  0\n",
       "corona_result              0\n",
       "age_60_and_above       49912\n",
       "gender                  7752\n",
       "dtype: int64"
      ]
     },
     "execution_count": 7,
     "metadata": {},
     "output_type": "execute_result"
    }
   ],
   "source": [
    "df.isnull().sum()"
   ]
  },
  {
   "cell_type": "code",
   "execution_count": 8,
   "metadata": {},
   "outputs": [
    {
     "name": "stdout",
     "output_type": "stream",
     "text": [
      "shape: (349038, 8)\n"
     ]
    }
   ],
   "source": [
    "df=df.dropna()\n",
    "print(\"shape:\", df.shape)"
   ]
  },
  {
   "cell_type": "markdown",
   "metadata": {},
   "source": [
    "### 1.4. Convert string to number"
   ]
  },
  {
   "cell_type": "code",
   "execution_count": 9,
   "metadata": {},
   "outputs": [],
   "source": [
    "df['age_60_and_above'] = df['age_60_and_above'].replace(['No','Yes'],[0,1])\n",
    "df['corona_result'] = df['corona_result'].replace(['negative','positive'],[0,1])\n",
    "df['gender'] = df['gender'].replace(['female','male'],[0,1])"
   ]
  },
  {
   "cell_type": "code",
   "execution_count": 10,
   "metadata": {},
   "outputs": [
    {
     "data": {
      "text/html": [
       "<div>\n",
       "<style scoped>\n",
       "    .dataframe tbody tr th:only-of-type {\n",
       "        vertical-align: middle;\n",
       "    }\n",
       "\n",
       "    .dataframe tbody tr th {\n",
       "        vertical-align: top;\n",
       "    }\n",
       "\n",
       "    .dataframe thead th {\n",
       "        text-align: right;\n",
       "    }\n",
       "</style>\n",
       "<table border=\"1\" class=\"dataframe\">\n",
       "  <thead>\n",
       "    <tr style=\"text-align: right;\">\n",
       "      <th></th>\n",
       "      <th>cough</th>\n",
       "      <th>fever</th>\n",
       "      <th>sore_throat</th>\n",
       "      <th>shortness_of_breath</th>\n",
       "      <th>head_ache</th>\n",
       "      <th>corona_result</th>\n",
       "      <th>age_60_and_above</th>\n",
       "      <th>gender</th>\n",
       "    </tr>\n",
       "  </thead>\n",
       "  <tbody>\n",
       "    <tr>\n",
       "      <th>0</th>\n",
       "      <td>0</td>\n",
       "      <td>0</td>\n",
       "      <td>0</td>\n",
       "      <td>0</td>\n",
       "      <td>0</td>\n",
       "      <td>1</td>\n",
       "      <td>0</td>\n",
       "      <td>1</td>\n",
       "    </tr>\n",
       "    <tr>\n",
       "      <th>1</th>\n",
       "      <td>1</td>\n",
       "      <td>0</td>\n",
       "      <td>0</td>\n",
       "      <td>0</td>\n",
       "      <td>1</td>\n",
       "      <td>1</td>\n",
       "      <td>0</td>\n",
       "      <td>1</td>\n",
       "    </tr>\n",
       "    <tr>\n",
       "      <th>2</th>\n",
       "      <td>0</td>\n",
       "      <td>0</td>\n",
       "      <td>0</td>\n",
       "      <td>0</td>\n",
       "      <td>0</td>\n",
       "      <td>1</td>\n",
       "      <td>1</td>\n",
       "      <td>0</td>\n",
       "    </tr>\n",
       "    <tr>\n",
       "      <th>3</th>\n",
       "      <td>0</td>\n",
       "      <td>0</td>\n",
       "      <td>0</td>\n",
       "      <td>0</td>\n",
       "      <td>0</td>\n",
       "      <td>1</td>\n",
       "      <td>0</td>\n",
       "      <td>1</td>\n",
       "    </tr>\n",
       "    <tr>\n",
       "      <th>4</th>\n",
       "      <td>0</td>\n",
       "      <td>0</td>\n",
       "      <td>0</td>\n",
       "      <td>0</td>\n",
       "      <td>0</td>\n",
       "      <td>1</td>\n",
       "      <td>0</td>\n",
       "      <td>0</td>\n",
       "    </tr>\n",
       "  </tbody>\n",
       "</table>\n",
       "</div>"
      ],
      "text/plain": [
       "   cough  fever  sore_throat  shortness_of_breath  head_ache  corona_result  \\\n",
       "0      0      0            0                    0          0              1   \n",
       "1      1      0            0                    0          1              1   \n",
       "2      0      0            0                    0          0              1   \n",
       "3      0      0            0                    0          0              1   \n",
       "4      0      0            0                    0          0              1   \n",
       "\n",
       "   age_60_and_above  gender  \n",
       "0                 0       1  \n",
       "1                 0       1  \n",
       "2                 1       0  \n",
       "3                 0       1  \n",
       "4                 0       0  "
      ]
     },
     "execution_count": 10,
     "metadata": {},
     "output_type": "execute_result"
    }
   ],
   "source": [
    "df.head()"
   ]
  },
  {
   "cell_type": "code",
   "execution_count": 11,
   "metadata": {},
   "outputs": [
    {
     "data": {
      "text/html": [
       "<div>\n",
       "<style scoped>\n",
       "    .dataframe tbody tr th:only-of-type {\n",
       "        vertical-align: middle;\n",
       "    }\n",
       "\n",
       "    .dataframe tbody tr th {\n",
       "        vertical-align: top;\n",
       "    }\n",
       "\n",
       "    .dataframe thead th {\n",
       "        text-align: right;\n",
       "    }\n",
       "</style>\n",
       "<table border=\"1\" class=\"dataframe\">\n",
       "  <thead>\n",
       "    <tr style=\"text-align: right;\">\n",
       "      <th></th>\n",
       "      <th>cough</th>\n",
       "      <th>fever</th>\n",
       "      <th>sore_throat</th>\n",
       "      <th>shortness_of_breath</th>\n",
       "      <th>head_ache</th>\n",
       "      <th>corona_result</th>\n",
       "      <th>age_60_and_above</th>\n",
       "      <th>gender</th>\n",
       "    </tr>\n",
       "  </thead>\n",
       "  <tbody>\n",
       "    <tr>\n",
       "      <th>count</th>\n",
       "      <td>349038.000000</td>\n",
       "      <td>349038.000000</td>\n",
       "      <td>349038.000000</td>\n",
       "      <td>349038.000000</td>\n",
       "      <td>349038.000000</td>\n",
       "      <td>349038.000000</td>\n",
       "      <td>349038.000000</td>\n",
       "      <td>349038.000000</td>\n",
       "    </tr>\n",
       "    <tr>\n",
       "      <th>mean</th>\n",
       "      <td>0.124147</td>\n",
       "      <td>0.143523</td>\n",
       "      <td>0.056779</td>\n",
       "      <td>0.020204</td>\n",
       "      <td>0.116219</td>\n",
       "      <td>0.598004</td>\n",
       "      <td>0.126685</td>\n",
       "      <td>0.503286</td>\n",
       "    </tr>\n",
       "    <tr>\n",
       "      <th>std</th>\n",
       "      <td>0.329750</td>\n",
       "      <td>0.350606</td>\n",
       "      <td>0.231420</td>\n",
       "      <td>0.140698</td>\n",
       "      <td>0.320488</td>\n",
       "      <td>0.490302</td>\n",
       "      <td>0.332621</td>\n",
       "      <td>0.499990</td>\n",
       "    </tr>\n",
       "    <tr>\n",
       "      <th>min</th>\n",
       "      <td>0.000000</td>\n",
       "      <td>0.000000</td>\n",
       "      <td>0.000000</td>\n",
       "      <td>0.000000</td>\n",
       "      <td>0.000000</td>\n",
       "      <td>0.000000</td>\n",
       "      <td>0.000000</td>\n",
       "      <td>0.000000</td>\n",
       "    </tr>\n",
       "    <tr>\n",
       "      <th>25%</th>\n",
       "      <td>0.000000</td>\n",
       "      <td>0.000000</td>\n",
       "      <td>0.000000</td>\n",
       "      <td>0.000000</td>\n",
       "      <td>0.000000</td>\n",
       "      <td>0.000000</td>\n",
       "      <td>0.000000</td>\n",
       "      <td>0.000000</td>\n",
       "    </tr>\n",
       "    <tr>\n",
       "      <th>50%</th>\n",
       "      <td>0.000000</td>\n",
       "      <td>0.000000</td>\n",
       "      <td>0.000000</td>\n",
       "      <td>0.000000</td>\n",
       "      <td>0.000000</td>\n",
       "      <td>1.000000</td>\n",
       "      <td>0.000000</td>\n",
       "      <td>1.000000</td>\n",
       "    </tr>\n",
       "    <tr>\n",
       "      <th>75%</th>\n",
       "      <td>0.000000</td>\n",
       "      <td>0.000000</td>\n",
       "      <td>0.000000</td>\n",
       "      <td>0.000000</td>\n",
       "      <td>0.000000</td>\n",
       "      <td>1.000000</td>\n",
       "      <td>0.000000</td>\n",
       "      <td>1.000000</td>\n",
       "    </tr>\n",
       "    <tr>\n",
       "      <th>max</th>\n",
       "      <td>1.000000</td>\n",
       "      <td>1.000000</td>\n",
       "      <td>1.000000</td>\n",
       "      <td>1.000000</td>\n",
       "      <td>1.000000</td>\n",
       "      <td>1.000000</td>\n",
       "      <td>1.000000</td>\n",
       "      <td>1.000000</td>\n",
       "    </tr>\n",
       "  </tbody>\n",
       "</table>\n",
       "</div>"
      ],
      "text/plain": [
       "               cough          fever    sore_throat  shortness_of_breath  \\\n",
       "count  349038.000000  349038.000000  349038.000000        349038.000000   \n",
       "mean        0.124147       0.143523       0.056779             0.020204   \n",
       "std         0.329750       0.350606       0.231420             0.140698   \n",
       "min         0.000000       0.000000       0.000000             0.000000   \n",
       "25%         0.000000       0.000000       0.000000             0.000000   \n",
       "50%         0.000000       0.000000       0.000000             0.000000   \n",
       "75%         0.000000       0.000000       0.000000             0.000000   \n",
       "max         1.000000       1.000000       1.000000             1.000000   \n",
       "\n",
       "           head_ache  corona_result  age_60_and_above         gender  \n",
       "count  349038.000000  349038.000000     349038.000000  349038.000000  \n",
       "mean        0.116219       0.598004          0.126685       0.503286  \n",
       "std         0.320488       0.490302          0.332621       0.499990  \n",
       "min         0.000000       0.000000          0.000000       0.000000  \n",
       "25%         0.000000       0.000000          0.000000       0.000000  \n",
       "50%         0.000000       1.000000          0.000000       1.000000  \n",
       "75%         0.000000       1.000000          0.000000       1.000000  \n",
       "max         1.000000       1.000000          1.000000       1.000000  "
      ]
     },
     "execution_count": 11,
     "metadata": {},
     "output_type": "execute_result"
    }
   ],
   "source": [
    "df.describe()"
   ]
  },
  {
   "cell_type": "markdown",
   "metadata": {},
   "source": [
    "## 2. Data Visualization\n",
    "### 2.1 Corr Heat Map"
   ]
  },
  {
   "cell_type": "code",
   "execution_count": 12,
   "metadata": {},
   "outputs": [
    {
     "data": {
      "text/plain": [
       "<AxesSubplot:>"
      ]
     },
     "execution_count": 12,
     "metadata": {},
     "output_type": "execute_result"
    },
    {
     "data": {
      "image/png": "[encoded data removed]",
      "text/plain": [
       "<Figure size 432x288 with 2 Axes>"
      ]
     },
     "metadata": {
      "needs_background": "light"
     },
     "output_type": "display_data"
    }
   ],
   "source": [
    "corr = df.corr()\n",
    "sns.heatmap(corr)"
   ]
  },
  {
   "cell_type": "code",
   "execution_count": 13,
   "metadata": {},
   "outputs": [
    {
     "data": {
      "text/plain": [
       "corona_result          1.000000\n",
       "fever                  0.297365\n",
       "head_ache              0.279854\n",
       "cough                  0.248007\n",
       "sore_throat            0.189269\n",
       "shortness_of_breath    0.111050\n",
       "gender                 0.031731\n",
       "age_60_and_above      -0.015416\n",
       "Name: corona_result, dtype: float64"
      ]
     },
     "execution_count": 13,
     "metadata": {},
     "output_type": "execute_result"
    }
   ],
   "source": [
    "corr.sort_values(by=['corona_result'],ascending=False).iloc[0].sort_values(ascending=False)"
   ]
  },
  {
   "cell_type": "code",
   "execution_count": 14,
   "metadata": {},
   "outputs": [],
   "source": [
    "# maybe delete gender and age"
   ]
  },
  {
   "cell_type": "markdown",
   "metadata": {},
   "source": [
    "### 2.2 Count Plot"
   ]
  },
  {
   "cell_type": "code",
   "execution_count": 15,
   "metadata": {},
   "outputs": [
    {
     "data": {
      "image/png": "[encoded data removed]",
      "text/plain": [
       "<Figure size 1440x720 with 6 Axes>"
      ]
     },
     "metadata": {
      "needs_background": "light"
     },
     "output_type": "display_data"
    }
   ],
   "source": [
    "plt.figure(figsize=(20,10))\n",
    "sns.set_theme(style='darkgrid')\n",
    "plt.subplot(2,3,1)\n",
    "sns.countplot(data=df,x='fever', hue='corona_result')\n",
    "plt.subplot(2,3,2)\n",
    "sns.countplot(data=df,x='head_ache', hue='corona_result')\n",
    "plt.subplot(2,3,3)\n",
    "sns.countplot(data=df,x='cough', hue='corona_result')\n",
    "plt.subplot(2,3,4)\n",
    "sns.countplot(data=df,x='sore_throat', hue='corona_result')\n",
    "plt.subplot(2,3,5)\n",
    "sns.countplot(data=df,x='shortness_of_breath', hue='corona_result')\n",
    "plt.subplot(2,3,6)\n",
    "sns.countplot(data=df,x='gender', hue='corona_result')\n",
    "plt.subplot(2,3,6)\n",
    "sns.countplot(data=df,x='age_60_and_above', hue='corona_result')\n",
    "plt.show()"
   ]
  },
  {
   "cell_type": "markdown",
   "metadata": {},
   "source": [
    "## 3. Modeling\n",
    "### 3.1. Train & Test Data"
   ]
  },
  {
   "cell_type": "code",
   "execution_count": 16,
   "metadata": {},
   "outputs": [],
   "source": [
    "X = df.drop(['corona_result'],axis=1)\n",
    "Y = df[['corona_result']]"
   ]
  },
  {
   "cell_type": "code",
   "execution_count": 17,
   "metadata": {},
   "outputs": [
    {
     "name": "stdout",
     "output_type": "stream",
     "text": [
      "X Shape (349038, 7)\n",
      "Y Shape (349038, 1)\n"
     ]
    }
   ],
   "source": [
    "print('X Shape', X.shape)\n",
    "print('Y Shape',Y.shape)"
   ]
  },
  {
   "cell_type": "code",
   "execution_count": 18,
   "metadata": {},
   "outputs": [
    {
     "name": "stdout",
     "output_type": "stream",
     "text": [
      "Number of x_train df (244326, 7)\n",
      "Number of x_test df (104712, 7)\n",
      "Number of Y_train df (244326, 1)\n",
      "Number of Y_test df (104712, 1)\n"
     ]
    }
   ],
   "source": [
    "from sklearn.model_selection import train_test_split\n",
    "X_train, X_test, Y_train, Y_test = train_test_split(X, Y, test_size=0.3, random_state=42)\n",
    "\n",
    "print('Number of x_train df',X_train.shape)\n",
    "print('Number of x_test df',X_test.shape)\n",
    "print('Number of Y_train df',Y_train.shape)\n",
    "print('Number of Y_test df',Y_test.shape)"
   ]
  },
  {
   "cell_type": "markdown",
   "metadata": {},
   "source": [
    "### 3.2. Import Models"
   ]
  },
  {
   "cell_type": "code",
   "execution_count": 42,
   "metadata": {},
   "outputs": [],
   "source": [
    "from sklearn.linear_model import LinearRegression\n",
    "from sklearn.linear_model import LogisticRegression\n",
    "from sklearn.naive_bayes import GaussianNB,BernoulliNB\n",
    "from sklearn.neighbors import KNeighborsClassifier\n",
    "from sklearn.tree import DecisionTreeClassifier\n",
    "from sklearn.ensemble import RandomForestClassifier"
   ]
  },
  {
   "cell_type": "markdown",
   "metadata": {},
   "source": [
    "### 3.3. Model evaluation"
   ]
  },
  {
   "cell_type": "code",
   "execution_count": 20,
   "metadata": {},
   "outputs": [],
   "source": [
    "models = []\n",
    "models.append(['Logistic Regression',LogisticRegression(random_state=0)])\n",
    "models.append(['GaussianNB',GaussianNB()])\n",
    "models.append(['BernoulliNB',BernoulliNB()])\n",
    "models.append(['KNeigbors',KNeighborsClassifier()])\n",
    "models.append(['DecisionTree',DecisionTreeClassifier(random_state=0)])\n",
    "models.append(['RandomForest',RandomForestClassifier(random_state=0)])"
   ]
  },
  {
   "cell_type": "code",
   "execution_count": 84,
   "metadata": {},
   "outputs": [
    {
     "name": "stdout",
     "output_type": "stream",
     "text": [
      "Logistic Regression :\n",
      "Accuracy Score:  0.6474807089922836\n",
      "\n",
      "Precision: 0.95 %\n",
      "\n",
      "Recall: 0.43 %\n",
      "\n",
      "F1 Score: 0.60 %\n",
      "----------------------------------------\n",
      "\n",
      "GaussianNB :\n",
      "Accuracy Score:  0.6474807089922836\n",
      "\n",
      "Precision: 0.95 %\n",
      "\n",
      "Recall: 0.43 %\n",
      "\n",
      "F1 Score: 0.60 %\n",
      "----------------------------------------\n",
      "\n",
      "BernoulliNB :\n",
      "Accuracy Score:  0.6474807089922836\n",
      "\n",
      "Precision: 0.95 %\n",
      "\n",
      "Recall: 0.43 %\n",
      "\n",
      "F1 Score: 0.60 %\n",
      "----------------------------------------\n",
      "\n",
      "KNeigbors :\n",
      "Accuracy Score:  0.6307109022843609\n",
      "\n",
      "Precision: 0.67 %\n",
      "\n",
      "Recall: 0.77 %\n",
      "\n",
      "F1 Score: 0.71 %\n",
      "----------------------------------------\n",
      "\n",
      "DecisionTree :\n",
      "Accuracy Score:  0.6474807089922836\n",
      "\n",
      "Precision: 0.95 %\n",
      "\n",
      "Recall: 0.43 %\n",
      "\n",
      "F1 Score: 0.60 %\n",
      "----------------------------------------\n",
      "\n",
      "RandomForest :\n",
      "Accuracy Score:  0.6474807089922836\n",
      "\n",
      "Precision: 0.95 %\n",
      "\n",
      "Recall: 0.43 %\n",
      "\n",
      "F1 Score: 0.60 %\n",
      "----------------------------------------\n",
      "\n"
     ]
    }
   ],
   "source": [
    "from sklearn.metrics import accuracy_score,precision_score,recall_score,f1_score\n",
    "lst_1 = []\n",
    "for m in range(len(models)):\n",
    "    lst_2 = []\n",
    "    model = models[m][1]\n",
    "    model.fit(X_train,Y_train)\n",
    "    Y_pred = model.predict(X_test)\n",
    "    accuracy = accuracy_score(Y_test,Y_pred)\n",
    "    precision = precision_score(Y_test,Y_pred)\n",
    "    recall = recall_score(Y_test,Y_pred)\n",
    "    f1 = f1_score(Y_test,Y_pred)\n",
    "    print(models[m][0],':')\n",
    "    print('Accuracy Score: ',accuracy)\n",
    "    print('')\n",
    "    print('Precision: {:.2f} %'.format(precision))\n",
    "    print('')\n",
    "    print('Recall: {:.2f} %'.format(recall))\n",
    "    print('')\n",
    "    print('F1 Score: {:.2f} %'.format(f1))\n",
    "    print('-'*40)\n",
    "    print('')\n",
    "    lst_2.append(models[m][0])\n",
    "    lst_2.append(accuracy)\n",
    "    lst_2.append(precision)\n",
    "    lst_2.append(recall)\n",
    "    lst_2.append(f1)\n",
    "    lst_2.append(models[m][1])\n",
    "    lst_1.append(lst_2)"
   ]
  },
  {
   "cell_type": "code",
   "execution_count": 85,
   "metadata": {},
   "outputs": [
    {
     "name": "stdout",
     "output_type": "stream",
     "text": [
      "Accuracy Score:  0.6414451065780427\n",
      "\n",
      "Precision: 0.70 %\n",
      "\n",
      "Recall: 0.70 %\n",
      "\n",
      "F1 Score: 0.70 %\n",
      "----------------------------------------\n",
      "\n"
     ]
    }
   ],
   "source": [
    "lst_2=[]\n",
    "model = LinearRegression()\n",
    "model.fit(X_train, Y_train)\n",
    "Y_pred = model.predict(X_test)\n",
    "for i in range(len(Y_pred)):\n",
    "    if(Y_pred[i][0]>0.5):\n",
    "        Y_pred[i][0]=1\n",
    "    else:\n",
    "        Y_pred[i][0]=0\n",
    "accuracy = accuracy_score(Y_test,Y_pred)\n",
    "precision = precision_score(Y_test,Y_pred)\n",
    "recall = recall_score(Y_test,Y_pred)\n",
    "f1 = f1_score(Y_test,Y_pred)\n",
    "print('Accuracy Score: ',accuracy)\n",
    "print('')\n",
    "print('Precision: {:.2f} %'.format(precision))\n",
    "print('')\n",
    "print('Recall: {:.2f} %'.format(recall))\n",
    "print('')\n",
    "print('F1 Score: {:.2f} %'.format(f1))\n",
    "print('-'*40)\n",
    "print('')\n",
    "lst_2.append(\"Linear Regression\")\n",
    "lst_2.append(accuracy)\n",
    "lst_2.append(precision)\n",
    "lst_2.append(recall)\n",
    "lst_2.append(f1)\n",
    "lst_2.append(model)\n",
    "lst_1.append(lst_2)"
   ]
  },
  {
   "cell_type": "code",
   "execution_count": 98,
   "metadata": {},
   "outputs": [
    {
     "data": {
      "text/html": [
       "<div>\n",
       "<style scoped>\n",
       "    .dataframe tbody tr th:only-of-type {\n",
       "        vertical-align: middle;\n",
       "    }\n",
       "\n",
       "    .dataframe tbody tr th {\n",
       "        vertical-align: top;\n",
       "    }\n",
       "\n",
       "    .dataframe thead th {\n",
       "        text-align: right;\n",
       "    }\n",
       "</style>\n",
       "<table border=\"1\" class=\"dataframe\">\n",
       "  <thead>\n",
       "    <tr style=\"text-align: right;\">\n",
       "      <th></th>\n",
       "      <th>Model</th>\n",
       "      <th>Accuracy</th>\n",
       "      <th>Precision</th>\n",
       "      <th>Recall</th>\n",
       "      <th>F1 Score</th>\n",
       "    </tr>\n",
       "  </thead>\n",
       "  <tbody>\n",
       "    <tr>\n",
       "      <th>0</th>\n",
       "      <td>Logistic Regression</td>\n",
       "      <td>0.647481</td>\n",
       "      <td>0.949101</td>\n",
       "      <td>0.434880</td>\n",
       "      <td>0.596460</td>\n",
       "    </tr>\n",
       "    <tr>\n",
       "      <th>1</th>\n",
       "      <td>GaussianNB</td>\n",
       "      <td>0.647481</td>\n",
       "      <td>0.949101</td>\n",
       "      <td>0.434880</td>\n",
       "      <td>0.596460</td>\n",
       "    </tr>\n",
       "    <tr>\n",
       "      <th>2</th>\n",
       "      <td>BernoulliNB</td>\n",
       "      <td>0.647481</td>\n",
       "      <td>0.949101</td>\n",
       "      <td>0.434880</td>\n",
       "      <td>0.596460</td>\n",
       "    </tr>\n",
       "    <tr>\n",
       "      <th>4</th>\n",
       "      <td>DecisionTree</td>\n",
       "      <td>0.647481</td>\n",
       "      <td>0.949101</td>\n",
       "      <td>0.434880</td>\n",
       "      <td>0.596460</td>\n",
       "    </tr>\n",
       "    <tr>\n",
       "      <th>5</th>\n",
       "      <td>RandomForest</td>\n",
       "      <td>0.647481</td>\n",
       "      <td>0.949101</td>\n",
       "      <td>0.434880</td>\n",
       "      <td>0.596460</td>\n",
       "    </tr>\n",
       "    <tr>\n",
       "      <th>6</th>\n",
       "      <td>Linear Regression</td>\n",
       "      <td>0.641445</td>\n",
       "      <td>0.701303</td>\n",
       "      <td>0.699346</td>\n",
       "      <td>0.700323</td>\n",
       "    </tr>\n",
       "    <tr>\n",
       "      <th>3</th>\n",
       "      <td>KNeigbors</td>\n",
       "      <td>0.630711</td>\n",
       "      <td>0.666884</td>\n",
       "      <td>0.766380</td>\n",
       "      <td>0.713178</td>\n",
       "    </tr>\n",
       "  </tbody>\n",
       "</table>\n",
       "</div>"
      ],
      "text/plain": [
       "                 Model  Accuracy  Precision    Recall  F1 Score\n",
       "0  Logistic Regression  0.647481   0.949101  0.434880  0.596460\n",
       "1           GaussianNB  0.647481   0.949101  0.434880  0.596460\n",
       "2          BernoulliNB  0.647481   0.949101  0.434880  0.596460\n",
       "4         DecisionTree  0.647481   0.949101  0.434880  0.596460\n",
       "5         RandomForest  0.647481   0.949101  0.434880  0.596460\n",
       "6    Linear Regression  0.641445   0.701303  0.699346  0.700323\n",
       "3            KNeigbors  0.630711   0.666884  0.766380  0.713178"
      ]
     },
     "execution_count": 98,
     "metadata": {},
     "output_type": "execute_result"
    }
   ],
   "source": [
    "lst_show=[]\n",
    "for i in range(len(lst_1)):\n",
    "    lst_show.append(lst_1[i][:5])\n",
    "lst_show\n",
    "df2 = pd.DataFrame(lst_show,columns=['Model','Accuracy','Precision','Recall','F1 Score'])\n",
    "\n",
    "df2.sort_values(by=['Accuracy','F1 Score'],inplace=True,ascending=False)\n",
    "df2"
   ]
  },
  {
   "cell_type": "markdown",
   "metadata": {},
   "source": [
    "## 4. input & output"
   ]
  },
  {
   "cell_type": "code",
   "execution_count": 114,
   "metadata": {},
   "outputs": [
    {
     "name": "stdout",
     "output_type": "stream",
     "text": [
      "Logistic Regression --> result: [1]\n",
      "GaussianNB --> result: [1]\n",
      "BernoulliNB --> result: [1]\n",
      "KNeigbors --> result: [1]\n",
      "DecisionTree --> result: [1]\n",
      "RandomForest --> result: [1]\n",
      "Linear Regression --> result: [[1.35751992]]\n"
     ]
    }
   ],
   "source": [
    "from pandas import DataFrame\n",
    "\n",
    "# fever = 1\n",
    "# cought = 1\n",
    "# sore_throat = 1\n",
    "# shortness_of_breath = 0\n",
    "# head_ach = 1\n",
    "# age_60_or_above = 0\n",
    "# gender = 0\n",
    "\n",
    "data = [[1,1,1,0,1,0,0]]\n",
    "col = ['fever','cought','sore_throat','shortness_of_breath','head_ach','age_60_or_above','gender']\n",
    "test = DataFrame(data, columns=col)\n",
    "for i in range(len(lst_1)):\n",
    "    model = lst_1[i][5]\n",
    "    print(lst_1[i][0],\"-->\",\"result:\",model.predict(test))"
   ]
  }
 ],
 "metadata": {
  "kernelspec": {
   "display_name": "Python 3",
   "language": "python",
   "name": "python3"
  },
  "language_info": {
   "codemirror_mode": {
    "name": "ipython",
    "version": 3
   },
   "file_extension": ".py",
   "mimetype": "text/x-python",
   "name": "python",
   "nbconvert_exporter": "python",
   "pygments_lexer": "ipython3",
   "version": "3.8.5"
  }
 },
 "nbformat": 4,
 "nbformat_minor": 4
}
